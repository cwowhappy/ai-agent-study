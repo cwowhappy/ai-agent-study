{
 "cells": [
  {
   "cell_type": "markdown",
   "id": "ebf4d6fa-f778-479b-80e0-b8c666b5591f",
   "metadata": {},
   "source": [
    "## 阶段总结\n",
    "### LangChain生态简介\n",
    "\n",
    "### LangChain核心概念\n",
    "### 延伸思考"
   ]
  }
 ],
 "metadata": {
  "kernelspec": {
   "display_name": "Python 3 (ipykernel)",
   "language": "python",
   "name": "python3"
  },
  "language_info": {
   "codemirror_mode": {
    "name": "ipython",
    "version": 3
   },
   "file_extension": ".py",
   "mimetype": "text/x-python",
   "name": "python",
   "nbconvert_exporter": "python",
   "pygments_lexer": "ipython3",
   "version": "3.12.2"
  }
 },
 "nbformat": 4,
 "nbformat_minor": 5
}
