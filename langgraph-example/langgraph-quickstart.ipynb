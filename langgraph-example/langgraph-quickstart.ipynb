{
 "cells": [
  {
   "cell_type": "markdown",
   "id": "eae00d40-8d30-4e07-890a-d187c4473dc6",
   "metadata": {},
   "source": [
    "## LangGraph快速入门\n",
    "> 学习LangGraph的基本概念\n",
    "\n",
    "**参考文档：**\n",
    "1. [官网 LangGraph Quickstart](https://langchain-ai.github.io/langgraph/tutorials/introduction/)\n",
    "2. [官网 LangGraph Glossary](https://langchain-ai.github.io/langgraph/concepts/low_level/)"
   ]
  },
  {
   "cell_type": "markdown",
   "id": "090fb903-a3c8-4f61-a675-6d288996039d",
   "metadata": {},
   "source": [
    "### 第一步：初始化环境变量"
   ]
  },
  {
   "cell_type": "markdown",
   "id": "6040c8f5-b4bb-40aa-8d31-36ac492d9fc5",
   "metadata": {},
   "source": [
    "### 第二步：构建Tool"
   ]
  },
  {
   "cell_type": "markdown",
   "id": "d6845ec4-479e-4ed6-9472-4c0e5602e36a",
   "metadata": {},
   "source": [
    "### 第三步：构建LangGraph"
   ]
  },
  {
   "cell_type": "markdown",
   "id": "3c9c028b-c23b-40d2-9147-dacf8e6e2624",
   "metadata": {},
   "source": [
    "### 第四步：模拟执行"
   ]
  }
 ],
 "metadata": {
  "kernelspec": {
   "display_name": "Python 3 (ipykernel)",
   "language": "python",
   "name": "python3"
  },
  "language_info": {
   "codemirror_mode": {
    "name": "ipython",
    "version": 3
   },
   "file_extension": ".py",
   "mimetype": "text/x-python",
   "name": "python",
   "nbconvert_exporter": "python",
   "pygments_lexer": "ipython3",
   "version": "3.12.2"
  }
 },
 "nbformat": 4,
 "nbformat_minor": 5
}
