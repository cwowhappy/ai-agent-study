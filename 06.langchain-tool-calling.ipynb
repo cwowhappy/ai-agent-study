{
 "cells": [
  {
   "cell_type": "markdown",
   "id": "c5e61212-66a1-4884-8ad7-abeecf6c29ec",
   "metadata": {},
   "source": [
    "## Tool Calling"
   ]
  },
  {
   "cell_type": "markdown",
   "id": "4ccbe678-ed93-471a-ad21-a3a214b40390",
   "metadata": {},
   "source": [
    "### 核心概念\n",
    "> Tool Calling = Function Calling：是一种支持模型与系统交互的\n",
    "\n",
    "- Tool Create\n",
    "- Tool Bingding\n",
    "- Tool Calling\n",
    "- Tool Execution"
   ]
  },
  {
   "cell_type": "code",
   "execution_count": 1,
   "id": "d10358c6-9083-4118-bae1-8958db9a5a32",
   "metadata": {},
   "outputs": [
    {
     "name": "stdin",
     "output_type": "stream",
     "text": [
      "请输入DeepSeek的API KEY: ········\n"
     ]
    }
   ],
   "source": [
    "# 设置环境变量\n",
    "import os\n",
    "import getpass\n",
    "\n",
    "os.environ[\"DEEPSEEK_API_KEY\"] = getpass.getpass(\"请输入DeepSeek的API KEY:\")"
   ]
  },
  {
   "cell_type": "code",
   "execution_count": null,
   "id": "57849bfa-47e8-4b0b-99f2-b667748b0bb3",
   "metadata": {},
   "outputs": [],
   "source": [
    "# 创建与注册Tool\n",
    "from langchain_core.tools import tool\n",
    "\n",
    "@tool\n",
    "def add(a: int, b: int) -> int:\n",
    "    \"\"\"计算a与b的和\"\"\"\n",
    "    return a + b"
   ]
  }
 ],
 "metadata": {
  "kernelspec": {
   "display_name": "Python 3 (ipykernel)",
   "language": "python",
   "name": "python3"
  },
  "language_info": {
   "codemirror_mode": {
    "name": "ipython",
    "version": 3
   },
   "file_extension": ".py",
   "mimetype": "text/x-python",
   "name": "python",
   "nbconvert_exporter": "python",
   "pygments_lexer": "ipython3",
   "version": "3.12.2"
  }
 },
 "nbformat": 4,
 "nbformat_minor": 5
}
