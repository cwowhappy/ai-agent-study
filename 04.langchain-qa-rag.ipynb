{
 "cells": [
  {
   "cell_type": "markdown",
   "id": "df4cbf39-05b0-44d8-81a5-8adc4fd5ac41",
   "metadata": {},
   "source": [
    "## 构建一个RAG应用\n",
    "> RAG：Retrieval Augmented Generation"
   ]
  },
  {
   "cell_type": "markdown",
   "id": "3b9e475e-b8c3-4f39-a3ce-e85082dd87a1",
   "metadata": {},
   "source": [
    "**官方文档：** https://python.langchain.com/docs/tutorials/rag/"
   ]
  },
  {
   "cell_type": "markdown",
   "id": "2b5a5ef5-4af4-44fb-93f6-5c1135f75e9e",
   "metadata": {},
   "source": [
    "**特别声明：** 本教程旨在跑通整个链路，模型效果暂不纳入考虑\n",
    "### 整体方案\n",
    "构建一个RAG简单应用主要包含两部分：文档索引和查询生成\n",
    "1. 文档索引：构建知识文本索引，方便快速获取相似/相关文档。一般是离线的数据链路。\n",
    "2. 获取并生成结果：实时获取相关文本并传给LLM，生成最终结果。\n",
    "\n",
    "#### 技术方案\n",
    "- Ollama + Chroma + LangChain：说明Ollama是本地运行大模型的框架；Chroma是向量数据库\n",
    "- Embedding Model：nomic-embed-text（一个基于Sentence Transformers库的句子嵌入模型，专门用于特征提取和句子相似度计算）\n",
    "- Chat Model：\n",
    "\n",
    "LangChain相关库：langchain-ollama、langchain-chroma。安装指令：`pip install langchain-ollama langchain-chroma`"
   ]
  },
  {
   "cell_type": "markdown",
   "id": "3fb1f4b7-3138-42c9-ad43-b1d0c646533e",
   "metadata": {},
   "source": [
    "### 第一部分：构建文档索引\n",
    "详见：03.langchain-vector-store"
   ]
  },
  {
   "cell_type": "markdown",
   "id": "5f9383ee-7a88-4204-8a25-803627ce7942",
   "metadata": {},
   "source": [
    "### 第二部分：查询生成\n",
    "核心步骤：\n",
    "1. 构建LLM模型实例\n",
    "2. 构建Prompt Template\n",
    "3. 构建Chain\n",
    "4. 测试问题\n",
    "\n",
    "LangChain提示词模板库：https://smith.langchain.com/hub"
   ]
  },
  {
   "cell_type": "markdown",
   "id": "cd0930db-1252-4850-b5ca-533053049296",
   "metadata": {},
   "source": [
    "#### 第一步：初始化系统变量\n",
    "主要包括2块：\n",
    "- LANGSMITH_*: LangSmith相关的参数。\n",
    "    - LANGSMITH_TRACING: 是否开启LangSmith追踪的开关\n",
    "    - LANGSMITH_ENDPOINT: LangSmith平台访问URL\n",
    "    - LANGSMITH_API_KEY: 访问LangSmith接口的API Key\n",
    "    - LANGSMITH_PROJECT: 项目唯一标识\n",
    "- DEEPSEEK_API_KEY: 访问DeepSeek大模型接口的API Key"
   ]
  },
  {
   "cell_type": "code",
   "execution_count": 1,
   "id": "d259391b-22aa-4bbb-8af6-5c0ce856df5c",
   "metadata": {},
   "outputs": [
    {
     "name": "stdin",
     "output_type": "stream",
     "text": [
      "请输入DeepSeek API KEY： ········\n"
     ]
    }
   ],
   "source": [
    "import os\n",
    "import getpass\n",
    "\n",
    "os.environ[\"LANGSMITH_TRACING\"] = \"true\"\n",
    "os.environ[\"LANGSMITH_ENDPOINT\"] = \"https://api.smith.langchain.com\"\n",
    "os.environ[\"LANGSMITH_PROJECT\"] = \"langchain-study-rag\"\n",
    "os.environ[\"LANGSMITH_API_KEY\"] = getpass.getpass(\"请输入LangSmith API KEY：\")\n",
    "os.environ[\"DEEPSEEK_API_KEY\"] = getpass.getpass(\"请输入DeepSeek API KEY：\")"
   ]
  },
  {
   "cell_type": "markdown",
   "id": "b18592a3-15d1-4ff7-87ee-5e014e847ccf",
   "metadata": {},
   "source": [
    "#### 第二步：构建LangGraph\n",
    "##### 问题集合\n",
    "1. HumanMessage、SystemMessage、ToolMessage这些消息是怎么组织并发给大模型的？\n",
    "2. StateGraph的原理\n",
    "3. LangGraph Platform的作用\n",
    "\n",
    "##### 构建LangGraph需要定义三个东西\n",
    "1. 应用的State：应用的输入和输出，以及控制流中各节点的输入和输出，一般情况下是TypedDict，也可以是[Pydantic BaseModel](https://langchain-ai.github.io/langgraph/how-tos/state-model/)。\n",
    "2. 应用的节点：\n",
    "3. 应用的控制流："
   ]
  },
  {
   "cell_type": "code",
   "execution_count": 2,
   "id": "989c3f5d-19bf-4f60-8fc7-f2ba332417c7",
   "metadata": {},
   "outputs": [],
   "source": [
    "from langchain_core.prompts import ChatPromptTemplate\n",
    "from langchain_core.documents import Document\n",
    "\n",
    "from langchain_deepseek import ChatDeepSeek\n",
    "from langchain_ollama import OllamaEmbeddings\n",
    "from langchain_chroma import Chroma\n",
    "\n",
    "from langgraph.graph import START, END, StateGraph\n",
    "\n",
    "from typing_extensions import List, TypedDict\n",
    "\n",
    "\n",
    "embeddings = OllamaEmbeddings(model=\"nomic-embed-text\")\n",
    "vector_store = Chroma(\n",
    "    collection_name=\"supply-chain-knowledge-vectors\",\n",
    "    embedding_function=embeddings,\n",
    "    persist_directory=\"./.chroma_db\"\n",
    ")\n",
    "\n",
    "prompt = ChatPromptTemplate([\n",
    "    (\"system\", \"你是一名资深供应链计划专家\"),\n",
    "    (\"human\", \"相关领域知识:{knowledge} \\n\\n 问题:{question}\")\n",
    "])\n",
    "\n",
    "chat_model = ChatDeepSeek(\n",
    "    model=\"deepseek-chat\",\n",
    "    temperature=1.0,\n",
    "    max_retries=2\n",
    ")\n",
    "\n",
    "class State(TypedDict):\n",
    "    documents: List[Document]\n",
    "    question: str\n",
    "    answer: str\n",
    "\n",
    "# 从向量数据库获取知识文档集\n",
    "def retrieve(state: State):\n",
    "    documents = vector_store.similarity_search(state[\"question\"])\n",
    "    return {\"documents\": documents}\n",
    "\n",
    "# 请求大模型\n",
    "def generate(state: State):\n",
    "    documents_content = \"\\n\\n\".join(document.page_content for document in state[\"documents\"])\n",
    "    messages = prompt.invoke({\"question\": state[\"question\"], \"knowledge\": documents_content})\n",
    "    response = chat_model.invoke(messages)\n",
    "    return {\"answer\": response.content}\n",
    "\n",
    "# 构建LangGraph\n",
    "group_builder = StateGraph(State)\n",
    "group_builder.add_node(\"retrieve\", retrieve)\n",
    "group_builder.add_node(\"generate\", generate)\n",
    "group_builder.add_edge(START, \"retrieve\")\n",
    "group_builder.add_edge(\"retrieve\", \"generate\")\n",
    "group_builder.add_edge(\"generate\", END)\n",
    "\n",
    "rag_app = group_builder.compile()"
   ]
  },
  {
   "cell_type": "code",
   "execution_count": 3,
   "id": "89467721-8cfd-48e9-bb85-2e4aa90142fa",
   "metadata": {},
   "outputs": [
    {
     "data": {
      "image/png": "[encoded data removed]",
      "text/plain": [
       "<IPython.core.display.Image object>"
      ]
     },
     "metadata": {},
     "output_type": "display_data"
    }
   ],
   "source": [
    "from IPython.display import Image, display\n",
    "\n",
    "display(Image(rag_app.get_graph().draw_mermaid_png()))"
   ]
  },
  {
   "cell_type": "code",
   "execution_count": 5,
   "id": "fc162206-fc1e-455a-b4e7-652f2f298642",
   "metadata": {},
   "outputs": [
    {
     "name": "stdout",
     "output_type": "stream",
     "text": [
      "{'retrieve': {'documents': [Document(id='9c85ce3b-5209-423e-83d1-4322176eb1d4', metadata={'row': 7, 'source': './knowledge-documents.csv'}, page_content='知识项: IBP不仅是规划工具，更是战略管理平台，通过整合数据、流程与文化，帮助企业实现从被动响应到主动规划的数字化转型。其核心价值在于提升敏捷性、优化资源配置，从而在动态市场中保持竞争力。'), Document(id='d91057e2-ceef-40f6-81c1-8bf33a3d0443', metadata={'row': 6, 'source': './knowledge-documents.csv'}, page_content='知识项: IBP（集成业务计划，Integrated Business Planning）是一种战略性、跨职能的业务规划方法，旨在通过整合企业内部的战略、财务、运营等环节，实现资源优化和高效协同。IBP的定义与内涵：滚动规划计划、三位一体整合。IBP的核心目标：战略与执行对齐、动态响应市场变化、资源优化与成本控制。IBP的实施流程：数据整合与统一视图、跨部门协作与决策、动态优化与模拟分析。'), Document(id='a93025f8-f3df-4be6-a91e-f16ce1c5ecf4', metadata={'row': 3, 'source': './knowledge-documents.csv'}, page_content='知识项: 库存计划的实现方案有：基于预测的库存计划、ABC分类法、经济订货批量（EOQ）模型、供应商管理库存（VMI）、联合库存管理（JMI）、寄售库存。基于预测的库存计划涉及一些重要的参数：再订货点、目标库存水位、Smin/Smax、安全库存。'), Document(id='03becd8b-d0b2-44aa-a4f1-95e9ea1aa07a', metadata={'row': 4, 'source': './knowledge-documents.csv'}, page_content='知识项: S&OP是一种将销售、运营、财务等多部门计划进行整合的管理流程。它通过对市场需求、供应能力、库存水平、财务预算等多方面因素的综合考量，制定出中短期的业务计划，以确保企业能够有效满足市场需求并实现盈利目标。S&OP的主要目标是：平衡需求与供应、优化资源配置、协调企业战略和日常运营')]}}\n",
      "\n",
      "----------------\n",
      "\n",
      "{'generate': {'answer': 'IBP（Integrated Business Planning，集成业务计划）是一种**战略性、跨职能的业务规划方法**，其核心是通过整合企业内部的战略、财务、运营等环节，实现资源优化和高效协同。以下是IBP的关键要点：\\n\\n### 1. **定义与内涵**\\n   - **滚动规划计划**：动态调整中长期规划，适应市场变化。\\n   - **三位一体整合**：战略（目标）、财务（预算）、运营（执行）深度协同，打破部门壁垒。\\n\\n### 2. **核心目标**\\n   - **战略与执行对齐**：将企业战略转化为可落地的运营计划。\\n   - **动态响应市场**：通过实时数据分析和情景模拟快速调整计划。\\n   - **资源优化**：平衡需求与供应，降低成本并提升效率（如库存、产能、资金等）。\\n\\n### 3. **与S&OP的区别**\\n   - **更广的覆盖范围**：S&OP（销售与运营计划）聚焦中短期供需平衡，而IBP扩展至战略层，纳入财务、产品生命周期等长期规划。\\n   - **更强的整合性**：IBP要求财务目标与运营计划直接挂钩，实现“从战略到执行”的闭环。\\n\\n### 4. **实施流程**\\n   - **数据整合**：统一销售、库存、产能等数据，形成单一事实来源。\\n   - **跨部门协作**：高管、销售、供应链、财务共同参与决策。\\n   - **动态优化**：通过模拟分析（如“如果-那么”情景）选择最优方案。\\n\\n### 5. **核心价值**\\n   - **敏捷性**：快速应对市场波动（如需求突变、供应链中断）。\\n   - **竞争力**：通过资源优化（如库存策略、产能分配）提升利润和客户满意度。\\n\\n### 示例应用\\n   - **库存计划**：结合IBP的整合视角，可能同时使用VMI（供应商管理库存）和动态安全库存计算，而非仅依赖静态的EOQ模型。\\n   - **战略落地**：企业扩张时，IBP可同步评估财务可行性、供应链能力及市场需求，避免脱节。\\n\\n简言之，IBP不仅是工具，更是**通过数据、流程和文化变革驱动企业从被动响应转向主动规划的管理体系**，尤其在数字化转型中至关重要。'}}\n",
      "\n",
      "----------------\n",
      "\n"
     ]
    }
   ],
   "source": [
    "for step in rag_app.stream({\"question\": \"请问IBP是什么\"}, stream_mode=\"updates\"):\n",
    "    print(f\"{step}\\n\\n----------------\\n\")"
   ]
  },
  {
   "cell_type": "markdown",
   "id": "8fa7ba5c-af7f-4ad7-be0b-c0b4254c2ae1",
   "metadata": {},
   "source": [
    "#### 延伸阅读\n",
    "1. Query分析：https://python.langchain.com/docs/how_to/#query-analysis\n",
    "2. 检索：https://python.langchain.com/docs/concepts/retrieval\n",
    "3. "
   ]
  },
  {
   "cell_type": "code",
   "execution_count": null,
   "id": "ba2cdfe8-ef9d-4061-9689-13d6c7506d5a",
   "metadata": {},
   "outputs": [],
   "source": []
  }
 ],
 "metadata": {
  "kernelspec": {
   "display_name": "Python 3 (ipykernel)",
   "language": "python",
   "name": "python3"
  },
  "language_info": {
   "codemirror_mode": {
    "name": "ipython",
    "version": 3
   },
   "file_extension": ".py",
   "mimetype": "text/x-python",
   "name": "python",
   "nbconvert_exporter": "python",
   "pygments_lexer": "ipython3",
   "version": "3.12.2"
  }
 },
 "nbformat": 4,
 "nbformat_minor": 5
}
