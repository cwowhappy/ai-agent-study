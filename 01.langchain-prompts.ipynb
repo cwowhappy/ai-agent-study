{
 "cells": [
  {
   "cell_type": "markdown",
   "id": "91587d26-7383-46d5-bab3-943af04ca9e2",
   "metadata": {},
   "source": [
    "## 基于LangChain与DeepSeek模型编写一个简单的对话Demo\n",
    "DeepSeek需要安装langchain-deepseek，具体指令：\n",
    "```shell\n",
    "%pip install -qU langchain-deepseek\n",
    "```"
   ]
  },
  {
   "cell_type": "markdown",
   "id": "1bee0c56-aa79-4288-a54e-2e8e10d2ac77",
   "metadata": {},
   "source": [
    "### 第一步：设置环境变量\n",
    "DEEPSEEK_API_KEY：调用DeepSeek模型API的key，用于接口认证"
   ]
  },
  {
   "cell_type": "code",
   "execution_count": 1,
   "id": "5e9d998e-feba-4462-86da-fa21a9ddd0a4",
   "metadata": {},
   "outputs": [
    {
     "name": "stdin",
     "output_type": "stream",
     "text": [
      "请输入DeepSeek的API Key: ········\n"
     ]
    }
   ],
   "source": [
    "import os\n",
    "import getpass\n",
    "\n",
    "os.environ[\"DEEPSEEK_API_KEY\"] = getpass.getpass(\"请输入DeepSeek的API Key:\")"
   ]
  },
  {
   "cell_type": "markdown",
   "id": "d461758a-e28d-4d8e-92d3-beca416afc65",
   "metadata": {},
   "source": [
    "### 第二步：初始化llm实例"
   ]
  },
  {
   "cell_type": "code",
   "execution_count": 2,
   "id": "2fd799f1-7320-4405-a227-5e35ad806070",
   "metadata": {},
   "outputs": [],
   "source": [
    "from langchain_deepseek import ChatDeepSeek\n",
    "llm = ChatDeepSeek(model=\"deepseek-chat\", temperature=0.2, max_retries=2)"
   ]
  },
  {
   "cell_type": "markdown",
   "id": "afea5c57-563b-4606-8e3c-dc8ab06a6045",
   "metadata": {},
   "source": [
    "### 第三步：构建对话，并调用模型获取返回数据。对话构建方式分为多种：基础消息、消息模版"
   ]
  },
  {
   "cell_type": "markdown",
   "id": "0d73422d-336a-4d7d-b0a7-cda9153dcbce",
   "metadata": {},
   "source": [
    "#### 第一种：使用基础消息构建对话的输入。\n",
    "消息类型：\n",
    "* SystemMessage：用于初始化模型行为，通常作为一系列输入消息中的第一个传入，类似于角色的设定或者对话的背景信息\n",
    "* HumanMessage：代表用发送的消息，是对话的起点或者对模型的提问\n",
    "* AIMessage：由AI生成的消息，用于在对话中提供信息或者响应\n",
    "* FunctionMessage：代表函数调用返回的结果，包含生成的此结果所调用的函数的名称\n",
    "* ToolMessage：代表工具调用的结果，包含调用生成此结果的工具的ID\n",
    "\n",
    "消息结构：role、content和response_metadata\n",
    "* role：\n",
    "* content：\n",
    "* response_metadata："
   ]
  },
  {
   "cell_type": "code",
   "execution_count": 3,
   "id": "89e46cfa-7c86-413a-9811-a0333d016a19",
   "metadata": {},
   "outputs": [],
   "source": [
    "from langchain_core.messages import SystemMessage, HumanMessage, AIMessage"
   ]
  },
  {
   "cell_type": "code",
   "execution_count": 6,
   "id": "e7c36103-73b4-4705-8c77-338b0549606c",
   "metadata": {},
   "outputs": [
    {
     "data": {
      "text/plain": [
       "'### **北京七日游攻略**  \\n**主题：经典景点+文化体验+美食探索**  \\n\\n---\\n\\n#### **📅 行程概览**  \\n- **Day 1**：天安门广场→故宫→景山公园→王府井  \\n- **Day 2**：八达岭长城→明十三陵（定陵/长陵）→鸟巢/水立方夜景  \\n- **Day 3**：颐和园→圆明园→清华/北大校门打卡  \\n- **Day 4**：天坛→前门大街→大栅栏→老北京胡同游（什刹海、南锣鼓巷）  \\n- **Day 5**：雍和宫→孔庙国子监→五道营胡同→簋街夜宵  \\n- **Day 6**：国家博物馆→798艺术区→三里屯  \\n- **Day 7**：自由活动（可选：北海公园、恭王府、京剧体验）  \\n\\n---\\n\\n#### **📍每日详细安排**  \\n\\n**Day 1：皇城根下的历史**  \\n- **上午**：  \\n  - **天安门广场**（看升旗需早起，约5:00-6:00，提前查时间）。  \\n  - **故宫**（8:30开门，建议提前7天预约，中轴线+珍宝馆必看）。  \\n- **下午**：  \\n  - **景山公园**（登顶俯瞰故宫全景）。  \\n  - **王府井**（购物+小吃，推荐“吴裕泰”花茶冰淇淋）。  \\n\\n**Day 2：长城豪情与奥运风采**  \\n- **全天**：  \\n  - **八达岭长城**（建议早6点出发，乘高铁或旅游专线车，登北八楼）。  \\n  - **明十三陵**（选定陵或长陵，了解明代陵墓文化）。  \\n- **晚上**：  \\n  - **鸟巢+水立方**（夜景灯光超美，适合拍照）。  \\n\\n**Day 3：皇家园林与名校之旅**  \\n- **上午**：**颐和园**（重点游长廊、昆明湖、佛香阁）。  \\n- **下午**：**圆明园**（西洋楼遗址必看，建议坐电瓶车）。  \\n- **傍晚**：清华/北大校门打卡（需提前预约入校）。  \\n\\n**Day 4：老北京风情**  \\n- **上午**：**天坛**（买联票，祈年殿+回音壁）。  \\n- **下午**：**前门大街**（尝“门框胡同卤煮”“爆肚冯”）→ **大栅栏**（老字号购物）。  \\n- **晚上**：**什刹海**划船或酒吧听歌，逛**南锣鼓巷**（文宇奶酪店）。  \\n\\n**Day 5：文化与文艺**  \\n- **上午**：**雍和宫**（祈福）+ **孔庙国子监**（古代最高学府）。  \\n- **下午**：**五道营胡同**（文艺小店拍照）。  \\n- **晚上**：**簋街**吃小龙虾（推荐“胡大饭店”）。  \\n\\n**Day 6：艺术与潮流**  \\n- **上午**：**国家博物馆**（必看“古代中国”展厅，免费需预约）。  \\n- **下午**：**798艺术区**（画廊+工业风拍照）。  \\n- **晚上**：**三里屯**（潮流购物+夜景）。  \\n\\n**Day 7：自由活动**  \\n- **推荐选项**：  \\n  - **北海公园**（划船唱《让我们荡起双桨》）。  \\n  - **恭王府**（和珅故居，福字碑必摸）。  \\n  - **京剧体验**（湖广会馆或正乙祠看演出）。  \\n\\n---\\n\\n#### **🍜 美食推荐**  \\n- **必吃清单**：  \\n  - 烤鸭（四季民福、大董）  \\n  - 炸酱面（方砖厂69号）  \\n  - 铜锅涮肉（东来顺、聚宝源）  \\n  - 豆汁儿+焦圈（挑战级，推荐尹三豆汁）  \\n  - 小吃：驴打滚、糖火烧、豌豆黄  \\n\\n---\\n\\n#### **⚠️ 实用Tips**  \\n1. **交通**：地铁+公交为主，下载“亿通行”APP扫码乘车。  \\n2. **门票**：故宫、长城、国家博物馆等需提前1-7天预约（微信小程序/官网）。  \\n3. **穿衣**：夏季防晒，冬季保暖（北京干燥，备润唇膏）。  \\n4. **避坑**：长城避免低价一日游团，胡同游别坐高价三轮车。  \\n\\n---\\n\\n**✨ 北京是一座传统与现代交织的城市，七天时间足够感受它的厚重与活力！**  \\n如果需要调整节奏或增加小众景点，随时告诉我哦~'"
      ]
     },
     "execution_count": 6,
     "metadata": {},
     "output_type": "execute_result"
    }
   ],
   "source": [
    "requestMessages = [\n",
    "    SystemMessage(content=\"你是我的旅游小助手\"),\n",
    "    HumanMessage(content=\"制作一份北京七日游攻略\")\n",
    "]\n",
    "\n",
    "responseMessage = llm.invoke(requestMessages) \n",
    "\n",
    "responseMessage.content"
   ]
  },
  {
   "cell_type": "markdown",
   "id": "d7dcb77c-7b07-4e68-a634-7f924d2d8637",
   "metadata": {},
   "source": [
    "#### 第二种：使用消息模版构建对话"
   ]
  },
  {
   "cell_type": "code",
   "execution_count": 10,
   "id": "33da7527-5ee5-4d62-82d9-41a234214390",
   "metadata": {},
   "outputs": [],
   "source": [
    "from langchain_core.prompts import ChatPromptTemplate\n",
    "from langchain_core.output_parsers import StrOutputParser"
   ]
  },
  {
   "cell_type": "code",
   "execution_count": 12,
   "id": "43cd5b85-4151-4e72-9a58-edb82beb56c7",
   "metadata": {},
   "outputs": [
    {
     "data": {
      "text/plain": [
       "'以下是一份详细的上海七日游攻略，涵盖经典景点、文化体验、美食和周边水乡，兼顾深度与趣味性：\\n\\n---\\n\\n### **Day 1：经典地标打卡**\\n- **上午**  \\n  - **外滩**：欣赏万国建筑博览群，建议清晨人少时拍照。  \\n  - **南京东路步行街**：步行至人民广场，感受上海商业繁华。  \\n- **下午**  \\n  - **豫园**（门票40元）：明代江南园林，逛城隍庙小吃街（推荐南翔小笼包）。  \\n  - **BFC外滩金融中心**：现代艺术展览或露台酒吧看夜景。  \\n- **晚上**  \\n  - **黄浦江游船**（夜航约120元）：灯光秀下的陆家嘴全景。\\n\\n---\\n\\n### **Day 2：浦东现代之旅**\\n- **上午**  \\n  - **上海中心大厦**（118层观光厅180元）：俯瞰城市全景。  \\n  - **陆家嘴三件套**：打卡环球金融中心、金茂大厦外观。  \\n- **下午**  \\n  - **浦东美术馆**（门票100元）：滨江观景台+艺术展。  \\n  - **滨江大道骑行**：沿江骑行至船厂1862（工业风改造艺术区）。  \\n- **晚上**  \\n  - **朵云书院**（需预约）：52层免费观景，点杯咖啡看日落。\\n\\n---\\n\\n### **Day 3：文艺与历史**\\n- **上午**  \\n  - **武康路**：骑行梧桐区，打卡武康大楼、巴金故居。  \\n  - **安福路**：逛多抓鱼书店、小众咖啡馆。  \\n- **下午**  \\n  - **上海博物馆**（免费）：青铜器/书画精品（提前预约）。  \\n  - **思南公馆**：老洋房群，周末有市集。  \\n- **晚上**  \\n  - **田子坊**（商业化但夜景不错）+ 泰康路鲜肉月饼。\\n\\n---\\n\\n### **Day 4：亲子/乐园日**\\n- **选项1**：迪士尼乐园（必玩创极速光轮、加勒比海盗）。  \\n- **选项2**：海昌海洋公园（虎鲸表演、火山漂流）。  \\n- **Tips**：迪士尼建议早享卡，晚上看烟花秀。\\n\\n---\\n\\n### **Day 5：周边水乡一日游**\\n- **朱家角**（地铁17号线直达）：  \\n  - 游放生桥、扎肉粽，坐乌篷船（60元/船）。  \\n- **或周庄/同里**（跟团更方便）：  \\n  - 体验“小桥流水人家”，品尝万三蹄。\\n\\n---\\n\\n### **Day 6：小众深度游**\\n- **上午**  \\n  - **M50创意园**：免费艺术画廊，苏州河畔拍照。  \\n  - **四行仓库**（免费）：《八佰》原型地，抗战纪念馆。  \\n- **下午**  \\n  - **愚园路**：逛故事商店、钱学森故居。  \\n  - **虹泉路韩国街**：晚餐吃韩式烤肉+釜山鱼饼。\\n\\n---\\n\\n### **Day 7：购物与返程**\\n- **上午**  \\n  - **静安寺**（门票50元）：金顶寺庙+久光百货购物。  \\n  - **兴业太古汇**：网红餐厅或甜品店（如Lady M）。  \\n- **下午**  \\n  - **新天地**：石库门建筑群，中共一大会址（免费）。  \\n  - **返程前**：买伴手礼（国际饭店蝴蝶酥、沈大成青团）。\\n\\n---\\n\\n### **🍜 美食推荐**\\n- 本帮菜：老吉士酒家（红烧肉）、兰心餐厅（油爆虾）。  \\n- 小吃：大壶春生煎、虹口糕团年糕团。  \\n- 夜市：寿宁路小龙虾、昌里路夜市。\\n\\n### **🚇 交通贴士**\\n- 地铁“Metro大都会”APP扫码，共享单车短途方便。  \\n- 浦东机场磁悬浮（单程50元，8分钟到龙阳路）。\\n\\n---\\n\\n**可根据兴趣调整顺序，如喜欢夜生活可增加巨鹿路158坊酒吧区！**'"
      ]
     },
     "execution_count": 12,
     "metadata": {},
     "output_type": "execute_result"
    }
   ],
   "source": [
    "promptTemplate = ChatPromptTemplate([\n",
    "    ('system', '你是我的旅游小助手，我的母语是{language}'),\n",
    "    ('user', '制作一份{location}七日游攻略')\n",
    "])\n",
    "\n",
    "outputParser = StrOutputParser()\n",
    "\n",
    "chain = promptTemplate | llm | outputParser\n",
    "\n",
    "responseContent = chain.invoke({\n",
    "    \"language\": \"中文\",\n",
    "    \"location\": \"上海\"\n",
    "})\n",
    "\n",
    "responseContent"
   ]
  },
  {
   "cell_type": "code",
   "execution_count": null,
   "id": "7ad855b8-ee97-479e-9da5-8776e254d654",
   "metadata": {},
   "outputs": [],
   "source": []
  }
 ],
 "metadata": {
  "kernelspec": {
   "display_name": "Python 3 (ipykernel)",
   "language": "python",
   "name": "python3"
  },
  "language_info": {
   "codemirror_mode": {
    "name": "ipython",
    "version": 3
   },
   "file_extension": ".py",
   "mimetype": "text/x-python",
   "name": "python",
   "nbconvert_exporter": "python",
   "pygments_lexer": "ipython3",
   "version": "3.12.2"
  }
 },
 "nbformat": 4,
 "nbformat_minor": 5
}
