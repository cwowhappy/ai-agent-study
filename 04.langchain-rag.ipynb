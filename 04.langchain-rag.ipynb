{
 "cells": [
  {
   "cell_type": "markdown",
   "id": "df4cbf39-05b0-44d8-81a5-8adc4fd5ac41",
   "metadata": {},
   "source": [
    "## 构建一个RAG应用\n",
    "> RAG：Retrieval Augmented Generation"
   ]
  },
  {
   "cell_type": "markdown",
   "id": "3b9e475e-b8c3-4f39-a3ce-e85082dd87a1",
   "metadata": {},
   "source": [
    "**官方文档：** https://python.langchain.com/docs/tutorials/rag/"
   ]
  },
  {
   "cell_type": "markdown",
   "id": "2b5a5ef5-4af4-44fb-93f6-5c1135f75e9e",
   "metadata": {},
   "source": [
    "**特别声明：** 本教程旨在跑通整个链路，模型效果暂不纳入考虑\n",
    "### 整体方案\n",
    "构建一个RAG简单应用主要包含两部分：文档索引和查询生成\n",
    "1. 文档索引：构建知识文本索引，方便快速获取相似/相关文档。一般是离线的数据链路。\n",
    "2. 获取并生成结果：实时获取相关文本并传给LLM，生成最终结果。\n",
    "\n",
    "#### 技术方案\n",
    "- Ollama + Chroma + LangChain：说明Ollama是本地运行大模型的框架；Chroma是向量数据库\n",
    "- Embedding Model：nomic-embed-text（一个基于Sentence Transformers库的句子嵌入模型，专门用于特征提取和句子相似度计算）\n",
    "- Chat Model：\n",
    "\n",
    "LangChain相关库：langchain-ollama、langchain-chroma。安装指令：`pip install langchain-ollama langchain-chroma`"
   ]
  },
  {
   "cell_type": "markdown",
   "id": "3fb1f4b7-3138-42c9-ad43-b1d0c646533e",
   "metadata": {},
   "source": [
    "### 第一部分：构建文档索引\n",
    "详见：03.langchain-vector-store"
   ]
  },
  {
   "cell_type": "markdown",
   "id": "5f9383ee-7a88-4204-8a25-803627ce7942",
   "metadata": {},
   "source": [
    "### 第二部分：查询生成\n",
    "核心步骤：\n",
    "1. 构建LLM模型实例\n",
    "2. 构建Prompt Template\n",
    "3. 构建Chain\n",
    "4. 测试问题\n",
    "\n",
    "LangChain提示词模板库：https://smith.langchain.com/hub"
   ]
  },
  {
   "cell_type": "markdown",
   "id": "cd0930db-1252-4850-b5ca-533053049296",
   "metadata": {},
   "source": [
    "#### 第一步：初始化系统变量\n",
    "主要包括2块：\n",
    "- LANGSMITH_*: LangSmith相关的参数。\n",
    "    - LANGSMITH_TRACING: 是否开启LangSmith追踪的开关\n",
    "    - LANGSMITH_ENDPOINT: LangSmith平台访问URL\n",
    "    - LANGSMITH_API_KEY: 访问LangSmith接口的API Key\n",
    "    - LANGSMITH_PROJECT: 项目唯一标识\n",
    "- DEEPSEEK_API_KEY: 访问DeepSeek大模型接口的API Key"
   ]
  },
  {
   "cell_type": "code",
   "execution_count": 5,
   "id": "d259391b-22aa-4bbb-8af6-5c0ce856df5c",
   "metadata": {},
   "outputs": [
    {
     "name": "stdin",
     "output_type": "stream",
     "text": [
      "请输入DeepSeek API KEY： ········\n"
     ]
    }
   ],
   "source": [
    "import os\n",
    "import getpass\n",
    "\n",
    "os.environ[\"LANGSMITH_TRACING\"] = \"true\"\n",
    "os.environ[\"LANGSMITH_ENDPOINT\"] = \"https://api.smith.langchain.com\"\n",
    "os.environ[\"LANGSMITH_API_KEY\"] = \"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\"\n",
    "os.environ[\"LANGSMITH_PROJECT\"] = \"langchain-study-rag\"\n",
    "os.environ[\"DEEPSEEK_API_KEY\"] = getpass.getpass(\"请输入DeepSeek API KEY：\")"
   ]
  },
  {
   "cell_type": "markdown",
   "id": "b18592a3-15d1-4ff7-87ee-5e014e847ccf",
   "metadata": {},
   "source": [
    "#### 第二步：构建LangGraph\n",
    "##### 问题集合\n",
    "1. HumanMessage、SystemMessage、ToolMessage这些消息是怎么组织并发给大模型的？\n",
    "2. StateGraph的原理\n",
    "3. LangGraph Platform的作用\n",
    "\n",
    "##### 构建LangGraph需要定义三个东西\n",
    "1. 应用的State\n",
    "2. 应用的节点\n",
    "3. 应用的控制流"
   ]
  },
  {
   "cell_type": "code",
   "execution_count": 6,
   "id": "989c3f5d-19bf-4f60-8fc7-f2ba332417c7",
   "metadata": {},
   "outputs": [],
   "source": [
    "from langchain_core.prompts import ChatPromptTemplate\n",
    "from langchain_core.documents import Document\n",
    "from langchain_deepseek import ChatDeepSeek\n",
    "from langgraph.graph import START, END, StateGraph\n",
    "\n",
    "from typing_extensions import List, TypedDict\n",
    "\n",
    "prompt = ChatPromptTemplate([\n",
    "    (\"system\", \"你是一名资深供应链计划专家\"),\n",
    "    (\"user\", \"相关领域知识:{knowledge} \\n\\n 问题:{question}\")\n",
    "])\n",
    "\n",
    "chat_model = ChatDeepSeek(\n",
    "    model=\"deepseek-chat\",\n",
    "    temperature=1.0,\n",
    "    max_retries=2\n",
    ")\n",
    "\n",
    "class State(TypedDict):\n",
    "    documents: List[Document]\n",
    "    question: str\n",
    "    answer: str\n",
    "\n",
    "# 从向量数据库获取知识文档集\n",
    "def retrieve(state: State):\n",
    "    documents = vector_store.similarity_search(state[\"question\"])\n",
    "    return {\"documents\": documents}\n",
    "\n",
    "# 请求大模型\n",
    "def generate(state: State):\n",
    "    documents_content = \"\\n\\n\".join(document.page_content for document in state[\"documents\"])\n",
    "    messages = prompt.invoke({\"question\": state[\"question\"], \"knowledge\": documents_content})\n",
    "    response = chat_model.invoke(messages)\n",
    "    return {\"answer\": response.content}\n",
    "\n",
    "# 构建LangGraph\n",
    "group_builder = StateGraph(State)\n",
    "group_builder.add_node(\"retrieve\", retrieve)\n",
    "group_builder.add_node(\"generate\", generate)\n",
    "group_builder.add_edge(START, \"retrieve\")\n",
    "group_builder.add_edge(\"retrieve\", \"generate\")\n",
    "group_builder.add_edge(\"generate\", END)\n",
    "\n",
    "rag_app = group_builder.compile()"
   ]
  },
  {
   "cell_type": "code",
   "execution_count": 8,
   "id": "fc162206-fc1e-455a-b4e7-652f2f298642",
   "metadata": {},
   "outputs": [
    {
     "name": "stdout",
     "output_type": "stream",
     "text": [
      "IBP（Integrated Business Planning，集成业务计划）是一种**战略性、跨职能的业务规划方法**，其本质不仅是规划工具，更是企业实现战略落地的管理平台。以下是其核心要点：\n",
      "\n",
      "---\n",
      "\n",
      "### **1. 定义与内涵**\n",
      "- **战略整合**：将企业战略、财务目标与运营执行（销售、生产、供应链等）深度结合，打破部门孤岛。\n",
      "- **滚动规划**：通过持续更新的动态计划（如18-24个月滚动周期），替代传统静态年度预算，提升敏捷性。\n",
      "- **三位一体**：整合**数据**（统一视图）、**流程**（标准化协作）、**文化**（跨部门共识），驱动数字化转型。\n",
      "\n",
      "---\n",
      "\n",
      "### **2. 核心价值**\n",
      "- **战略对齐**：确保执行层行动与企业长期战略一致。\n",
      "- **动态响应**：快速应对市场需求波动、供应链中断等不确定性。\n",
      "- **资源优化**：通过模拟分析（如\"what-if\"场景）平衡成本、库存与服务水平。\n",
      "\n",
      "---\n",
      "\n",
      "### **3. 关键实施流程**\n",
      "1. **数据整合**：聚合财务、运营、市场数据，形成唯一可信来源。\n",
      "2. **跨部门协同**：销售、生产、采购等职能共同参与决策（如S&OP会议）。\n",
      "3. **动态迭代**：基于实时数据调整计划，并通过模拟预测不同决策的影响。\n",
      "\n",
      "---\n",
      "\n",
      "### **4. 与传统规划的区别**\n",
      "| **维度**       | **IBP**                          | 传统规划                  |\n",
      "|----------------|----------------------------------|-------------------------|\n",
      "| **视角**       | 战略导向，长期与短期平衡         | 短期目标为主            |\n",
      "| **协作方式**   | 跨部门实时协同                   | 部门独立规划            |\n",
      "| **灵活性**     | 滚动更新，动态优化               | 固定年度计划            |\n",
      "| **技术支撑**   | 依赖大数据、AI模拟               | 手工报表为主            |\n",
      "\n",
      "---\n",
      "\n",
      "### **5. 应用场景举例**\n",
      "- **需求波动**：通过IBP快速调整产能分配，避免库存积压或短缺。\n",
      "- **新品上市**：整合市场预测与供应链资源，确保供需匹配。\n",
      "- **并购整合**：统一多组织间的规划流程，加速协同效应释放。\n",
      "\n",
      "---\n",
      "\n",
      "IBP的终极目标是帮助企业从**被动执行**转向**主动规划**，在复杂环境中实现资源效率与竞争力的双重提升。实际应用中需结合企业数字化成熟度分阶段推进。\n"
     ]
    }
   ],
   "source": [
    "result = rag_app.invoke({\"question\": \"请问IBP是什么\"})\n",
    "print(result[\"answer\"])"
   ]
  },
  {
   "cell_type": "code",
   "execution_count": null,
   "id": "cac45769-cf61-4ebd-86d5-6aa39fe5070d",
   "metadata": {},
   "outputs": [],
   "source": []
  }
 ],
 "metadata": {
  "kernelspec": {
   "display_name": "Python 3 (ipykernel)",
   "language": "python",
   "name": "python3"
  },
  "language_info": {
   "codemirror_mode": {
    "name": "ipython",
    "version": 3
   },
   "file_extension": ".py",
   "mimetype": "text/x-python",
   "name": "python",
   "nbconvert_exporter": "python",
   "pygments_lexer": "ipython3",
   "version": "3.12.2"
  }
 },
 "nbformat": 4,
 "nbformat_minor": 5
}
