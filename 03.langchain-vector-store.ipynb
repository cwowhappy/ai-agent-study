{
 "cells": [
  {
   "cell_type": "markdown",
   "id": "cf99210b-6e0a-494c-a52b-04dff87f5add",
   "metadata": {},
   "source": [
    "## 构建知识库\n",
    "> 基于向量数据库构建供应链计划知识库\n",
    "\n",
    "#### 参考文档\n",
    "1. https://python.langchain.com/docs/tutorials/retrievers/\n",
    "2. https://zhuanlan.zhihu.com/p/260083265\n",
    "\n",
    "#### 向量检索相关知识\n",
    "问题集：\n",
    "1. 如何更方便和快速的构建知识库，尤其是自动化收集知识？\n",
    "2. 为什么要把文本向量化？常见的向量化方案是什么？\n",
    "3. 如何度量文本的相似性？\n",
    "4. 向量检索如何实现快速检索？即构建向量索引的方法是什么？\n",
    "\n",
    "#### 核心步骤\n",
    "1. 加载原始数据（非结构化的文本数据）并预处理\n",
    "3. 存储处理后的文档集到向量数据库"
   ]
  },
  {
   "cell_type": "markdown",
   "id": "bef116ef-b120-4def-871b-d67b26a5d64a",
   "metadata": {},
   "source": [
    "#### 第一步：加载原始数据并预处理\n",
    "数据来源CSV文件，其它类型的数据加载可以参考文档：https://python.langchain.com/docs/how_to/#document-loaders\n",
    "\n",
    "RecursiveCharacterTextSplitter -> TextSplitter -> DocumentTransformer"
   ]
  },
  {
   "cell_type": "code",
   "execution_count": 1,
   "id": "3c8a78b7-c680-4c6e-b688-729c0448aeab",
   "metadata": {},
   "outputs": [],
   "source": [
    "from langchain_community.document_loaders.csv_loader import CSVLoader\n",
    "from langchain_text_splitters import RecursiveCharacterTextSplitter\n",
    "\n",
    "# 相对路径\n",
    "csv_file_path = \"./knowledge-documents.csv\"\n",
    "loader = CSVLoader(\n",
    "    file_path=csv_file_path,\n",
    "    content_columns=[\"知识项\"],\n",
    "    csv_args={\n",
    "        \"delimiter\": \",\",\n",
    "        \"quotechar\": '\"',\n",
    "        # \"fieldnames\": [\"知识项\"]\n",
    "    }\n",
    ")\n",
    "\n",
    "text_splitter = RecursiveCharacterTextSplitter(chunk_size=1000, chunk_overlap=200)\n",
    "\n",
    "documents = loader.load_and_split(text_splitter)"
   ]
  },
  {
   "cell_type": "markdown",
   "id": "7d305e73-0ab6-45cc-a9a1-b0aaa9fb2433",
   "metadata": {},
   "source": [
    "#### 第二步：构建向量数据库\n",
    "使用Ollama拉取Embedding模型nomic-embed-text（具体指令`ollama pull nomic-embed-text`），拉取成功后即可使用."
   ]
  },
  {
   "cell_type": "code",
   "execution_count": 3,
   "id": "43f2fe79-a638-4cf7-ab90-fec313bed2b5",
   "metadata": {},
   "outputs": [],
   "source": [
    "from langchain_ollama import OllamaEmbeddings\n",
    "from langchain_chroma import Chroma\n",
    "\n",
    "embeddings = OllamaEmbeddings(model=\"nomic-embed-text\")\n",
    "vector_store = Chroma(collection_name=\"supply-chain-knowledge-vectors\", embedding_function=embeddings, persist_directory=\"./.chroma_db\")"
   ]
  },
  {
   "cell_type": "code",
   "execution_count": 4,
   "id": "c91f4d37-183f-4dae-ad4c-bbd4c4f91856",
   "metadata": {},
   "outputs": [
    {
     "data": {
      "text/plain": [
       "['be8f1287-14a2-40e4-806b-9a7e667e523e',\n",
       " '14d38f9a-1a4f-4e98-ac13-42c3dd9d433e',\n",
       " '34643d8b-31d0-4a5b-92b8-9fe7c4635e89',\n",
       " 'a93025f8-f3df-4be6-a91e-f16ce1c5ecf4',\n",
       " '03becd8b-d0b2-44aa-a4f1-95e9ea1aa07a',\n",
       " '8bb7609e-6761-4109-8ab9-a751ac583380',\n",
       " 'd91057e2-ceef-40f6-81c1-8bf33a3d0443',\n",
       " '9c85ce3b-5209-423e-83d1-4322176eb1d4']"
      ]
     },
     "execution_count": 4,
     "metadata": {},
     "output_type": "execute_result"
    }
   ],
   "source": [
    "vector_store.add_documents(documents=documents)"
   ]
  },
  {
   "cell_type": "code",
   "execution_count": 5,
   "id": "5c9884c8-768c-4b3d-9274-e8f8b5c171ae",
   "metadata": {},
   "outputs": [
    {
     "data": {
      "text/plain": [
       "[Document(id='9c85ce3b-5209-423e-83d1-4322176eb1d4', metadata={'row': 7, 'source': './knowledge-documents.csv'}, page_content='知识项: IBP不仅是规划工具，更是战略管理平台，通过整合数据、流程与文化，帮助企业实现从被动响应到主动规划的数字化转型。其核心价值在于提升敏捷性、优化资源配置，从而在动态市场中保持竞争力。'),\n",
       " Document(id='d91057e2-ceef-40f6-81c1-8bf33a3d0443', metadata={'row': 6, 'source': './knowledge-documents.csv'}, page_content='知识项: IBP（集成业务计划，Integrated Business Planning）是一种战略性、跨职能的业务规划方法，旨在通过整合企业内部的战略、财务、运营等环节，实现资源优化和高效协同。IBP的定义与内涵：滚动规划计划、三位一体整合。IBP的核心目标：战略与执行对齐、动态响应市场变化、资源优化与成本控制。IBP的实施流程：数据整合与统一视图、跨部门协作与决策、动态优化与模拟分析。'),\n",
       " Document(id='a93025f8-f3df-4be6-a91e-f16ce1c5ecf4', metadata={'row': 3, 'source': './knowledge-documents.csv'}, page_content='知识项: 库存计划的实现方案有：基于预测的库存计划、ABC分类法、经济订货批量（EOQ）模型、供应商管理库存（VMI）、联合库存管理（JMI）、寄售库存。基于预测的库存计划涉及一些重要的参数：再订货点、目标库存水位、Smin/Smax、安全库存。'),\n",
       " Document(id='03becd8b-d0b2-44aa-a4f1-95e9ea1aa07a', metadata={'row': 4, 'source': './knowledge-documents.csv'}, page_content='知识项: S&OP是一种将销售、运营、财务等多部门计划进行整合的管理流程。它通过对市场需求、供应能力、库存水平、财务预算等多方面因素的综合考量，制定出中短期的业务计划，以确保企业能够有效满足市场需求并实现盈利目标。S&OP的主要目标是：平衡需求与供应、优化资源配置、协调企业战略和日常运营')]"
      ]
     },
     "execution_count": 5,
     "metadata": {},
     "output_type": "execute_result"
    }
   ],
   "source": [
    "vector_store.similarity_search(\"IBP集成业务计划\")"
   ]
  },
  {
   "cell_type": "code",
   "execution_count": null,
   "id": "81e74b5a-c9d5-4961-951d-40f6c36433b1",
   "metadata": {},
   "outputs": [],
   "source": []
  }
 ],
 "metadata": {
  "kernelspec": {
   "display_name": "Python 3 (ipykernel)",
   "language": "python",
   "name": "python3"
  },
  "language_info": {
   "codemirror_mode": {
    "name": "ipython",
    "version": 3
   },
   "file_extension": ".py",
   "mimetype": "text/x-python",
   "name": "python",
   "nbconvert_exporter": "python",
   "pygments_lexer": "ipython3",
   "version": "3.12.2"
  }
 },
 "nbformat": 4,
 "nbformat_minor": 5
}
