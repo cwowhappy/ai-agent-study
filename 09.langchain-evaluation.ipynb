{
 "cells": [
  {
   "cell_type": "markdown",
   "id": "1a3add3f-1e57-41f3-bfd2-78c509248d8d",
   "metadata": {},
   "source": [
    "## Evaluation模块的搭建\n",
    "> Evaluate是整个处理流程中的一个职责，它可以是Tool、Model或者Agent的一种，甚至是一个组合。关键是是否能对当前的Action产生的结果做出“代价”评估！"
   ]
  },
  {
   "cell_type": "code",
   "execution_count": null,
   "id": "1461a58d-64e9-4d45-b602-80303fbb57dc",
   "metadata": {},
   "outputs": [],
   "source": [
    "import os\n",
    "import getpass\n",
    "\n",
    "os.environ[\"LANGSMITH_TRACING\"] = \"true\"\n",
    "os.environ[\"LANGSMITH_ENDPOINT\"] = \"https://api.smith.langchain.com\"\n",
    "os.environ[\"LANGSMITH_PROJECT\"] = \"langchain-study-agent\"\n",
    "os.environ[\"LANGSMITH_API_KEY\"] = getpass.getpass(\"请输入LangSmith API KEY：\")\n",
    "os.environ[\"DEEPSEEK_API_KEY\"] = getpass.getpass(\"请输入DeepSeek API KEY：\")"
   ]
  },
  {
   "cell_type": "code",
   "execution_count": null,
   "id": "51857016-2190-4cfc-a0bf-702531c31cc4",
   "metadata": {},
   "outputs": [],
   "source": []
  }
 ],
 "metadata": {
  "kernelspec": {
   "display_name": "Python 3 (ipykernel)",
   "language": "python",
   "name": "python3"
  },
  "language_info": {
   "codemirror_mode": {
    "name": "ipython",
    "version": 3
   },
   "file_extension": ".py",
   "mimetype": "text/x-python",
   "name": "python",
   "nbconvert_exporter": "python",
   "pygments_lexer": "ipython3",
   "version": "3.12.2"
  }
 },
 "nbformat": 4,
 "nbformat_minor": 5
}
